{
 "cells": [
  {
   "cell_type": "code",
   "execution_count": null,
   "metadata": {},
   "outputs": [],
   "source": [
    "# 美国电影、电视节目按限制年龄从小到大排序的限制级别\n",
    "rating_order_movie = ['G', 'TV-G', 'TV-Y', 'TV-Y7', 'TV-Y7-FV', 'PG', 'TV-PG', 'PG-13', 'TV-14', 'R', 'NC-17', 'TV-MA', 'NR', 'UR']\n",
    "rating_order_tv =  ['G', 'TV-G', 'TV-Y', 'TV-Y7', 'TV-Y7-FV', 'PG', 'TV-PG', 'TV-14', 'R', 'TV-MA', 'NR']\n",
    "\n",
    "rating_data_movie = d_movie['rating'].value_counts()[rating_order_movie]\n",
    "rating_data_tv = d_tv['rating'].value_counts()[rating_order_tv]\n",
    "\n",
    "def rating_barplot(data, title, height):\n",
    "    fig, ax = plt.subplots(1,1, figsize=(15, 7))\n",
    "    \n",
    "    ax.bar(data.index, data, color=\"#d0d0d0\", width=0.6, edgecolor='#000')\n",
    "#     ax.bar(data.index, data2, width=0.6, edgecolor='#000')\n",
    "\n",
    "    color =  ['green', 'blue', 'red', 'orange']\n",
    "    span_range = [[0, 4], [5, 8], [9, 11], [12, 14]]\n",
    "\n",
    "    for index, name in enumerate(['儿童', '青少年', '成年人', '特殊定级/未定级']):\n",
    "#         绘制分级标签\n",
    "        ax.annotate(name,xy=(sum(span_range[index])/2 ,height),\n",
    "                    ha=\"center\",color=\"#fff\", fontsize=14,\n",
    "                    bbox=dict(boxstyle='round4', pad=0.4, color=color[index], alpha=0.6))\n",
    "#     绘制分级背景\n",
    "        ax.axvspan(span_range[index][0]-0.4, span_range[index][1]+0.4,  color=color[index], alpha=0.1)\n",
    "\n",
    "    ax.set_title(f'{title}的不同限制级别分布数量', fontsize=16)\n",
    "    plt.show()\n",
    "\n",
    "rating_barplot(rating_data_movie, 'Movie', 1200)\n",
    "rating_barplot(rating_data_tv,'TV Show', 600)"
   ]
  }
 ],
 "metadata": {
  "kernelspec": {
   "display_name": "Python 3",
   "language": "python",
   "name": "python3"
  },
  "language_info": {
   "codemirror_mode": {
    "name": "ipython",
    "version": 3
   },
   "file_extension": ".py",
   "mimetype": "text/x-python",
   "name": "python",
   "nbconvert_exporter": "python",
   "pygments_lexer": "ipython3",
   "version": "3.8.3"
  }
 },
 "nbformat": 4,
 "nbformat_minor": 4
}
